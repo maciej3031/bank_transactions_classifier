{
  "cells": [
    {
      "metadata": {
        "_uuid": "38ba7b82feb9324e046710fed7b91d791f671537",
        "_cell_guid": "a239913a-b27f-15e7-8911-53b62bf41c4e"
      },
      "cell_type": "markdown",
      "source": "# Bank transaction classifier\n\n## Data exploring"
    },
    {
      "metadata": {
        "_uuid": "939d1c75ef336c2818b9ca7361f7f0dc9657a12a",
        "collapsed": true,
        "_cell_guid": "029ecde6-086d-7a8e-de44-363a7a23dbd8",
        "trusted": false
      },
      "cell_type": "code",
      "source": "# import 'em all\nimport pandas as pd\nimport matplotlib.pyplot as plt\nimport seaborn as sns\nimport numpy as np\nfrom sklearn.preprocessing import StandardScaler\n#from scipy.stats import norm\n#from sklearn.preprocessing import StandardScaler\n#from scipy import stats\n#import warnings\n#warnings.filterwarnings('ignore')\n%matplotlib inline",
      "execution_count": null,
      "outputs": []
    },
    {
      "metadata": {
        "_uuid": "1ad6dcf44bd284df1b19650d0d4962b87a912bbd",
        "collapsed": true,
        "_cell_guid": "7e5ca1e3-3597-19d2-b4be-dffd335df630",
        "trusted": false
      },
      "cell_type": "code",
      "source": "# go get the data\ndf = pd.read_csv(\"../input/creditcard.csv\")",
      "execution_count": null,
      "outputs": []
    },
    {
      "metadata": {
        "_uuid": "69096f634f11fb0862841ff6d270b75a71fe1aac",
        "_cell_guid": "206fbba9-c656-4f2f-b3bb-996dd384b178",
        "trusted": false,
        "collapsed": true
      },
      "cell_type": "code",
      "source": "# let's see what's inside\ndf.head(5)",
      "execution_count": null,
      "outputs": []
    },
    {
      "metadata": {
        "_uuid": "46fbf090c2e49e6156cfc4c4f6ee2d8d5ac23daa",
        "_cell_guid": "9f9ad097-32ab-4ede-b8f5-21caf82eb76d"
      },
      "cell_type": "markdown",
      "source": "All V variables are normalized, we need to decide how to manage Amount and Time.\n\nI will start with the latter one. Time is counted from 0.0 and is measured in seconds."
    },
    {
      "metadata": {
        "_uuid": "cca6da89cbcc419636b478d501856a46a97eedcc",
        "_cell_guid": "d4f02f10-3a40-4445-be09-428da5b43211",
        "trusted": false,
        "collapsed": true
      },
      "cell_type": "code",
      "source": "df.Time.max()/3600",
      "execution_count": null,
      "outputs": []
    },
    {
      "metadata": {
        "_uuid": "42c96a084d0459276453e620b70f1eafbcfc6dbf",
        "_cell_guid": "e58e727a-d39c-42d1-b242-5b762bd37088"
      },
      "cell_type": "markdown",
      "source": "Almost 48 hours or 2 whole days. First thing on my mind? Plot frad vs normal transactions depending on second, minute, hour.."
    },
    {
      "metadata": {
        "_uuid": "a4162953f3d30342bc63f330036a087450d02b64",
        "_cell_guid": "7208f401-e754-4610-a1cb-d9505f16377f",
        "trusted": false,
        "collapsed": true
      },
      "cell_type": "code",
      "source": "f, (ax1, ax2, ax3) = plt.subplots(3, 1, sharex=False, figsize=(12,12))\n\nax1.hist((df.Time[df.Class == 1]%60, df.Time[df.Class == 0]%60), bins = 60, normed=True, label=(\"Fraud\",\"Normal\"))\nax1.set_title('Seconds')\n\nax2.hist((df.Time[df.Class == 1]%3600,  df.Time[df.Class == 0]%3600), bins = 60, normed=True, label=(\"Fraud\",\"Normal\"))\nax2.set_title('Minutes')\n\nax3.hist((df.Time[df.Class == 1]%(3600*24),  df.Time[df.Class == 0]%(3600*24)), bins = 24, normed=True, label=(\"Fraud\",\"Normal\"))\nax3.set_title('Hours')\n\nplt.xlabel('Time (in Seconds)')\nplt.ylabel('Number of Transactions')\nplt.show()",
      "execution_count": null,
      "outputs": []
    },
    {
      "metadata": {
        "_uuid": "23d65d7d78397a06490c368de25c5fb266f973c0",
        "_cell_guid": "b30fcddf-f420-4c92-93f2-d483b1854005"
      },
      "cell_type": "markdown",
      "source": "And we got.. nothing. Plan B: Amount against Time. "
    },
    {
      "metadata": {
        "_uuid": "b4079e3230dff0b412cc903c6b0d5458dc5ebcf6",
        "_cell_guid": "79b24b52-35bb-4f32-ac75-e2970da76ab9",
        "trusted": false,
        "collapsed": true
      },
      "cell_type": "code",
      "source": "f, (ax1, ax2) = plt.subplots(2, 1, sharex=True, figsize=(12,8))\n\nax1.scatter(df.Time[df.Class == 1], df.Amount[df.Class == 1])\nax1.set_title('Fraud')\n\nax2.scatter(df.Time[df.Class == 0], df.Amount[df.Class == 0])\nax2.set_title('Normal')\n\nplt.xlabel('Time (in Seconds)')\nplt.ylabel('Amount')\nplt.show()",
      "execution_count": null,
      "outputs": []
    },
    {
      "metadata": {
        "_uuid": "0900d32df8d3b4c0d4f320bb209f923b2447904e",
        "_cell_guid": "6268bbd8-6de5-2389-5693-ecd9a14872d4"
      },
      "cell_type": "markdown",
      "source": "At this point we cannot tell anything specyfic about the data. The time seems to be useless, so we'll get rid of it. "
    },
    {
      "metadata": {
        "_uuid": "1e2f4b298ab1c0c8b6281468fc2e8e5f54e919a3",
        "_cell_guid": "a6e3a348-583b-412f-ad41-658446f6c23d",
        "trusted": false,
        "collapsed": true
      },
      "cell_type": "code",
      "source": "df = df.drop(['Time'], axis=1)\ndf.head()",
      "execution_count": null,
      "outputs": []
    },
    {
      "metadata": {
        "_uuid": "c56b771ea164868e6b8722d566e39648a92f4d0d",
        "_cell_guid": "c561e294-c028-41e9-8ec9-c4d1e92696d1"
      },
      "cell_type": "markdown",
      "source": "All features but Amount have been previously transformed with PCA.\n\nWe can assume that they are all lineary independent. But.. can we?"
    },
    {
      "metadata": {
        "_uuid": "01515cb70db238b8c025ac3b65e8ddd446a25ae4",
        "_cell_guid": "4608777d-f717-4c96-8170-1ebca9052311",
        "trusted": false,
        "collapsed": true
      },
      "cell_type": "code",
      "source": "#normalize Amount \ndf['normAmount'] = StandardScaler().fit_transform(df['Amount'].values.reshape((-1, 1)))\ndf = df.drop(['Amount'], axis=1)\ndf.head()",
      "execution_count": null,
      "outputs": []
    },
    {
      "metadata": {
        "_uuid": "2db9c37c4bb17182c02571c6541061b0872c99c3",
        "_cell_guid": "f8a6b0a1-ae1a-4a8a-874f-780901188181",
        "trusted": false,
        "collapsed": true
      },
      "cell_type": "code",
      "source": "#correlation matrix\ncorrmat = df.corr()\nf, ax = plt.subplots(figsize=(12, 9))\nsns.heatmap(corrmat, vmax=.8, square=True);",
      "execution_count": null,
      "outputs": []
    },
    {
      "metadata": {
        "_uuid": "838fe3781489924adac6985de32e27e8d56d8a0c",
        "_cell_guid": "389a1406-d705-4e91-9987-c7432c4cbe0f",
        "trusted": false,
        "collapsed": true
      },
      "cell_type": "code",
      "source": "corrmat.nlargest(5, 'Class')['Class']",
      "execution_count": null,
      "outputs": []
    },
    {
      "metadata": {
        "_uuid": "082b31ead987e3e858caf458c3fd9dbded99bab8",
        "_cell_guid": "8129bcf7-715c-4139-8a62-02ce56a107e0"
      },
      "cell_type": "markdown",
      "source": "Not a single suspicious correlation for now. Too suspicius to be left unexamined.\n"
    },
    {
      "metadata": {
        "_uuid": "2792bddedc45bf99ffcbaf7063c0a0abecdeaeb5",
        "_cell_guid": "e078d58d-0686-47a8-8064-b0d5fc3a3b18",
        "trusted": false,
        "collapsed": true
      },
      "cell_type": "code",
      "source": "#scatterplot\nsns.set()\ncols = ['Class', 'V11', 'V4', 'V2', 'V20', 'V7', 'normAmount']\nsns.pairplot(df[cols], size = 2.5)\nplt.show();",
      "execution_count": null,
      "outputs": []
    },
    {
      "metadata": {
        "_uuid": "172f630082f93b5d674885742ef88f8e00c3f4bf",
        "_cell_guid": "e7fe8360-10cb-46a6-8e8e-bdc53854dff0"
      },
      "cell_type": "markdown",
      "source": "It's hard to find anything usefull here.\n\nNext step: checking the missing data"
    },
    {
      "metadata": {
        "_uuid": "d8703f7e86b445869c36254f7c1b525efb415bd6",
        "_cell_guid": "85a8d43f-4793-47da-879a-fcac3543be66",
        "trusted": false,
        "collapsed": true
      },
      "cell_type": "code",
      "source": "#every soul on board?\ndf.isnull().sum().sum()",
      "execution_count": null,
      "outputs": []
    },
    {
      "metadata": {
        "_uuid": "82f4f38da6bf1a6b2c5f615db2e204a0c6fd31df",
        "_cell_guid": "2d5cf4dc-e405-4a41-b8cc-3ea027e730e9"
      },
      "cell_type": "markdown",
      "source": "Finally a perfectly filled dataset!"
    },
    {
      "metadata": {
        "_uuid": "018edce55c235e481803d4936c37a342dd06cf24",
        "_cell_guid": "3f6e6674-12e9-6983-5788-5755f80c7ec2",
        "trusted": false,
        "collapsed": true
      },
      "cell_type": "code",
      "source": "sns.countplot(\"Class\",data=df)",
      "execution_count": null,
      "outputs": []
    },
    {
      "metadata": {
        "_uuid": "bce3370d39f7babdb84336db2f1810d0fd2f66a2",
        "collapsed": true,
        "_cell_guid": "23168cad-7d8c-4614-bf48-6e4399fa134f",
        "trusted": false
      },
      "cell_type": "code",
      "source": "class Perceptron(object):\n    \"\"\"Perceptron classifier.\n    \n    Parameters    \n    -----------    \n    eta : float        \n        Learning rate (between 0.0 and 1.0)    \n    n_iter : int        \n        Passes over the training dataset.\n    \n     Attributes    \n     ----------    \n     w_ : 1d-array        \n         Weights after fitting.    \n    errors_ : list        \n        Number of misclassifications in every epoch.\n    \n    \"\"\"    \n    def __init__(self, eta=0.01, n_iter=10):        \n        self.eta = eta        \n        self.n_iter = n_iter\n    def fit(self, X, y):        \n        \"\"\"Fit training data.\n        \n        Parameters        \n        ---------        \n        X : {array-like}, shape = [n_samples, n_features]            \n            Training vectors, where n_samples is the number of samples and \n            n_features is the number of features.\n        y : array-like, shape = [n_samples]            \n            Target values.\n        \n        Returns        \n        ------        \n        self : object\n        \n        \"\"\"        \n        self.w_ = np.zeros(1 + X.shape[1])        \n        self.errors_ = []\n        \n        for _ in range(self.n_iter):            \n            errors = 0            \n            for xi, target in zip(X, y):                \n                update = self.eta * (target - self.predict(xi))                \n                self.w_[1:] += update * xi                \n                self.w_[0] += update                \n                errors += int(update != 0.0)            \n            self.errors_.append(errors)        \n        return self\n    \n    def net_input(self, X):        \n        \"\"\"Calculate net input\"\"\"        \n        return np.dot(X, self.w_[1:]) + self.w_[0]\n    \n    def predict(self, X):        \n        \"\"\"Return class label after unit step\"\"\"        \n        return np.where(self.net_input(X) >= 0.0, 1, -1)",
      "execution_count": null,
      "outputs": []
    },
    {
      "metadata": {
        "_uuid": "e85f31c4610374021ed7fcdb2150e36df30c5072",
        "collapsed": true,
        "_cell_guid": "ae521a9b-0dc1-448c-96fa-60441e6594ce",
        "trusted": false
      },
      "cell_type": "code",
      "source": "",
      "execution_count": null,
      "outputs": []
    }
  ],
  "metadata": {
    "_change_revision": 0,
    "language_info": {
      "codemirror_mode": {
        "version": 3,
        "name": "ipython"
      },
      "pygments_lexer": "ipython3",
      "name": "python",
      "file_extension": ".py",
      "mimetype": "text/x-python",
      "version": "3.6.3",
      "nbconvert_exporter": "python"
    },
    "_is_fork": false,
    "kernelspec": {
      "display_name": "Python 3",
      "language": "python",
      "name": "python3"
    }
  },
  "nbformat": 4,
  "nbformat_minor": 1
}